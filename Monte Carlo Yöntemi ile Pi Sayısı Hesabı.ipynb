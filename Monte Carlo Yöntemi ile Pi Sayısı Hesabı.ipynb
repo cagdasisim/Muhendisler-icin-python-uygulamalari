{
 "cells": [
  {
   "cell_type": "code",
   "execution_count": 1,
   "metadata": {},
   "outputs": [],
   "source": [
    "import random"
   ]
  },
  {
   "cell_type": "code",
   "execution_count": 2,
   "metadata": {},
   "outputs": [],
   "source": [
    "icerde = 0"
   ]
  },
  {
   "cell_type": "code",
   "execution_count": 3,
   "metadata": {},
   "outputs": [],
   "source": [
    "for atis_sayisi in range(0, 1000000):\n",
    "    a = random.random()\n",
    "    b = random.random()\n",
    "    z = (a*a+b*b)**0.5\n",
    "    if z < 1:\n",
    "        icerde += 1\n",
    "atis_sayisi += 1"
   ]
  },
  {
   "cell_type": "code",
   "execution_count": 4,
   "metadata": {},
   "outputs": [
    {
     "name": "stdout",
     "output_type": "stream",
     "text": [
      "Pi sayisinin yaklasik degeri: 3.14078\n"
     ]
    }
   ],
   "source": [
    "print(\"Pi sayisinin yaklasik degeri:\", 4.0 * icerde / atis_sayisi)"
   ]
  },
  {
   "cell_type": "code",
   "execution_count": null,
   "metadata": {},
   "outputs": [],
   "source": []
  }
 ],
 "metadata": {
  "kernelspec": {
   "display_name": "Python 3",
   "language": "python",
   "name": "python3"
  },
  "language_info": {
   "codemirror_mode": {
    "name": "ipython",
    "version": 3
   },
   "file_extension": ".py",
   "mimetype": "text/x-python",
   "name": "python",
   "nbconvert_exporter": "python",
   "pygments_lexer": "ipython3",
   "version": "3.7.3"
  }
 },
 "nbformat": 4,
 "nbformat_minor": 2
}
