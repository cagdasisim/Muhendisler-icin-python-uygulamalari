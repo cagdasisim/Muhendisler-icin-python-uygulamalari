{
 "cells": [
  {
   "cell_type": "code",
   "execution_count": 1,
   "metadata": {},
   "outputs": [
    {
     "name": "stdout",
     "output_type": "stream",
     "text": [
      "Merhaba dünya!\n"
     ]
    }
   ],
   "source": [
    "print(\"Merhaba dünya!\")"
   ]
  },
  {
   "cell_type": "code",
   "execution_count": 2,
   "metadata": {},
   "outputs": [
    {
     "name": "stdout",
     "output_type": "stream",
     "text": [
      "3\n",
      "2.0\n"
     ]
    }
   ],
   "source": [
    "a=1\n",
    "b=2\n",
    "c=a+b\n",
    "print(a+b)\n",
    "print(b/a)"
   ]
  },
  {
   "cell_type": "code",
   "execution_count": 3,
   "metadata": {},
   "outputs": [
    {
     "name": "stdout",
     "output_type": "stream",
     "text": [
      "<class 'float'>\n",
      "13414.98979294255\n"
     ]
    }
   ],
   "source": [
    "a=1.0 #ondalıklı sayı\n",
    "b=17.145 #ondalıklı sayı\n",
    "c=2.3e5 #ondalıklı sayı \n",
    "        #logaritmik sayı\n",
    "print(type(a))\n",
    "print(c/b)"
   ]
  },
  {
   "cell_type": "code",
   "execution_count": 4,
   "metadata": {},
   "outputs": [
    {
     "name": "stdout",
     "output_type": "stream",
     "text": [
      "<class 'bool'>\n"
     ]
    }
   ],
   "source": [
    "a=True \t#onaylar\n",
    "b=False\t#onaylar\n",
    "print(type(a))"
   ]
  },
  {
   "cell_type": "code",
   "execution_count": 5,
   "metadata": {},
   "outputs": [
    {
     "name": "stdout",
     "output_type": "stream",
     "text": [
      "Merhaba\n",
      "Dünya\n",
      "ahmet 'mehmet' kedi \"bitti\" köpek\n"
     ]
    }
   ],
   "source": [
    "string_1=\"Merhaba\"\n",
    "string_2='Dünya'\n",
    "string_3=\"ahmet 'mehmet' kedi \\\"bitti\\\" köpek\"\n",
    "print(string_1)\n",
    "print(string_2)\n",
    "print(string_3)"
   ]
  },
  {
   "cell_type": "code",
   "execution_count": 6,
   "metadata": {},
   "outputs": [
    {
     "name": "stdout",
     "output_type": "stream",
     "text": [
      "Merhaba Dünya\n",
      "The result of 2+2 is: 4\n"
     ]
    }
   ],
   "source": [
    "a=\"Merhaba\"+\" Dünya\"\n",
    "b=2+2\n",
    "print(a)\n",
    "print(\"The result of 2+2 is: {0}\".format(b))"
   ]
  },
  {
   "cell_type": "code",
   "execution_count": 7,
   "metadata": {},
   "outputs": [
    {
     "name": "stdout",
     "output_type": "stream",
     "text": [
      "a=12 and b=3\n"
     ]
    }
   ],
   "source": [
    "a=12\n",
    "b=3\n",
    "print(\"a={0} and b={1}\".format(a,b))"
   ]
  },
  {
   "cell_type": "code",
   "execution_count": 8,
   "metadata": {},
   "outputs": [
    {
     "name": "stdout",
     "output_type": "stream",
     "text": [
      "a=2.38 and b=5\n"
     ]
    }
   ],
   "source": [
    "a=2.3847567838\n",
    "b=5\n",
    "print(\"a=%.2f and b=%d\"%(a,b))"
   ]
  },
  {
   "cell_type": "code",
   "execution_count": 9,
   "metadata": {},
   "outputs": [
    {
     "name": "stdout",
     "output_type": "stream",
     "text": [
      "[1, 2, 3, 4]\n",
      "['merhaba', 2, 4.15, [1, 2, 3, 4]]\n",
      "[[1, 2, 3, 4], [5, 6, 7, 8], [9, 10, 11, 12]]\n"
     ]
    }
   ],
   "source": [
    "myList1=[1,2,3,4] \n",
    "myList2=[\"merhaba\", 2, 4.15, myList1]\n",
    "mat=[[1,2,3,4],[5,6,7,8],[9,10,11,12]] \n",
    "\n",
    "print(myList1)\n",
    "print(myList2)\n",
    "print(mat)"
   ]
  },
  {
   "cell_type": "code",
   "execution_count": 10,
   "metadata": {},
   "outputs": [
    {
     "name": "stdout",
     "output_type": "stream",
     "text": [
      "2\n",
      "[2, 'merhaba', 16, 32]\n",
      "6\n"
     ]
    }
   ],
   "source": [
    "a=[2, 4, 16, 32]\n",
    "print(a[0]) \n",
    "a[1]=\"merhaba\"\n",
    "print(a)\n",
    "b=[[3,6],[9,12]]\n",
    "print(b[0][1]) "
   ]
  },
  {
   "cell_type": "code",
   "execution_count": 13,
   "metadata": {},
   "outputs": [
    {
     "name": "stdout",
     "output_type": "stream",
     "text": [
      "append: ['köpek', 'kedi', 'aslan', 'tilki']\n",
      "insert: ['köpek', 'kedi', 'karınca', 'aslan', 'tilki']\n",
      "remove: ['kedi', 'karınca', 'aslan', 'tilki']\n",
      "pop: ['kedi', 'karınca', 'aslan']\n",
      "extend: ['kedi', 'karınca', 'aslan', 'aslan']\n",
      "2\n",
      "['kedi', 'karınca']\n"
     ]
    }
   ],
   "source": [
    "a=[\"köpek\", \"kedi\", \"aslan\"]\n",
    "\n",
    "a.append(\"tilki\")\n",
    "print(\"append: {0}\".format(a))\n",
    "\n",
    "a.insert(2, \"karınca\")\n",
    "print(\"insert: {0}\".format(a))\n",
    "\n",
    "a.remove(\"köpek\")\n",
    "print(\"remove: {0}\".format(a))\n",
    "\n",
    "a.pop(3)\n",
    "print(\"pop: {0}\".format(a))\n",
    "\n",
    "a.extend([\"aslan\"])\n",
    "print(\"extend: {0}\".format(a))\n",
    "print(a.count(\"aslan\"))\n",
    "a.remove(\"aslan\")\n",
    "a.remove(\"aslan\")\n",
    "print(a)"
   ]
  },
  {
   "cell_type": "code",
   "execution_count": 14,
   "metadata": {},
   "outputs": [
    {
     "name": "stdout",
     "output_type": "stream",
     "text": [
      "çelik\n"
     ]
    }
   ],
   "source": [
    "mydict={\"object\" : \"kiriş\",\n",
    "        \"material\" : \"çelik\",\n",
    "        \"type\" : \"IPE120\",\n",
    "        \"h\" : 120,\n",
    "        \"b\" : 64}\n",
    "\n",
    "print(mydict[\"material\"])"
   ]
  },
  {
   "cell_type": "code",
   "execution_count": 15,
   "metadata": {},
   "outputs": [
    {
     "name": "stdout",
     "output_type": "stream",
     "text": [
      "(1, 2, 3, 'elma', 5)\n",
      "1\n",
      "4\n"
     ]
    }
   ],
   "source": [
    "mytuple=(1,2,3,\"elma\",5)\n",
    "print(mytuple)\n",
    "\n",
    "print(mytuple.count(\"elma\"))\n",
    "print(mytuple.index(5))"
   ]
  },
  {
   "cell_type": "code",
   "execution_count": 16,
   "metadata": {},
   "outputs": [
    {
     "name": "stdout",
     "output_type": "stream",
     "text": [
      "x ,y den küçükse\n"
     ]
    }
   ],
   "source": [
    "x=3\n",
    "y=5\n",
    "\n",
    "if x<y:\n",
    "    print(\"x ,y den küçükse\")\n",
    "else:\n",
    "    print(\"x ,y den büyükse\")"
   ]
  },
  {
   "cell_type": "code",
   "execution_count": 17,
   "metadata": {},
   "outputs": [
    {
     "name": "stdout",
     "output_type": "stream",
     "text": [
      "çelik kiris\n"
     ]
    }
   ],
   "source": [
    "kiris = {\"mat\" : \"çelik\", \"E\" : 210000}\n",
    "\n",
    "if kiris[\"mat\"] == \"betonarme\":\n",
    "    print(\"betonarme kiris\")\n",
    "elif kiris[\"mat\"] == \"çelik\":\n",
    "    print(\"çelik kiris\")\n",
    "elif kiris[\"mat\"] == \"tahta\":\n",
    "    print(\"Tahta kiriş\")\n",
    "else:\n",
    "    print(\"malzeme bilinmiyor\")"
   ]
  },
  {
   "cell_type": "code",
   "execution_count": 18,
   "metadata": {},
   "outputs": [
    {
     "name": "stdout",
     "output_type": "stream",
     "text": [
      "a<b<c\n"
     ]
    }
   ],
   "source": [
    "a, b, c = 1, 2, 3\n",
    "\n",
    "if a < b or b < c:\n",
    "    print(\"a<b<c\")"
   ]
  },
  {
   "cell_type": "code",
   "execution_count": 19,
   "metadata": {},
   "outputs": [
    {
     "name": "stdout",
     "output_type": "stream",
     "text": [
      "x>y\n",
      "x>y\n",
      "x>y\n"
     ]
    }
   ],
   "source": [
    "x, y = 10, 5\n",
    "if x>y: print(\"x>y\")\n",
    "print(\"x>y\") if x>y else print(\"x<y\")\n",
    "print(\"x>y\") if x>y else print(\"x=y\") if x==y else print(\"x<y\")"
   ]
  },
  {
   "cell_type": "code",
   "execution_count": 20,
   "metadata": {},
   "outputs": [
    {
     "name": "stdout",
     "output_type": "stream",
     "text": [
      "17\n",
      "9\n",
      "52\n",
      "3.25\n",
      "1\n",
      "28561\n",
      "3\n"
     ]
    }
   ],
   "source": [
    "x, y = 13, 4\n",
    "print(x+y)\n",
    "print(x-y)\n",
    "print(x*y)\n",
    "print(x/y)\n",
    "print(x%y)\n",
    "print(x**y)\n",
    "print(x//y)"
   ]
  },
  {
   "cell_type": "code",
   "execution_count": 21,
   "metadata": {},
   "outputs": [
    {
     "name": "stdout",
     "output_type": "stream",
     "text": [
      "3\n",
      "5\n"
     ]
    }
   ],
   "source": [
    "x=3\n",
    "print(x)\n",
    "x=x+2 # sonuç x+2 yi altta gösterir \n",
    "print(x)\n"
   ]
  },
  {
   "cell_type": "code",
   "execution_count": 22,
   "metadata": {},
   "outputs": [
    {
     "name": "stdout",
     "output_type": "stream",
     "text": [
      "3\n",
      "5\n"
     ]
    }
   ],
   "source": [
    "x=3\n",
    "print(x)\n",
    "x+=2 #sonuç x+2 yi altta gösterir +kısaltmasıdır\n",
    "print(x)"
   ]
  },
  {
   "cell_type": "code",
   "execution_count": 23,
   "metadata": {},
   "outputs": [
    {
     "name": "stdout",
     "output_type": "stream",
     "text": [
      "5\n",
      "1\n",
      "6\n",
      "1.5\n",
      "1\n",
      "9\n",
      "1\n"
     ]
    }
   ],
   "source": [
    "x = 3\n",
    "x+=2\n",
    "print(x)\n",
    "\n",
    "x = 3\n",
    "x-=2\n",
    "print(x)\n",
    "\n",
    "x = 3\n",
    "x*=2\n",
    "print(x)\n",
    "\n",
    "x = 3\n",
    "x/=2\n",
    "print(x)\n",
    "\n",
    "x = 3\n",
    "x%=2\n",
    "print(x)\n",
    "\n",
    "x = 3\n",
    "x**=2\n",
    "print(x)\n",
    "\n",
    "x = 3\n",
    "x//=2\n",
    "print(x)"
   ]
  },
  {
   "cell_type": "code",
   "execution_count": 24,
   "metadata": {},
   "outputs": [
    {
     "name": "stdout",
     "output_type": "stream",
     "text": [
      "myList içinde ise\n",
      "b myList içinde değil\n"
     ]
    }
   ],
   "source": [
    "a=3\n",
    "b=12\n",
    "myList=[1,2,3,4,5]\n",
    "\n",
    "if a in myList:\n",
    "    print(\"myList içinde ise\")\n",
    "else:\n",
    "    print(\"myList içinde değil ise\")\n",
    "    \n",
    "if b in myList:\n",
    "    print(\"b myList içinde\")\n",
    "else:\n",
    "    print(\"b myList içinde değil\")    "
   ]
  },
  {
   "cell_type": "code",
   "execution_count": 25,
   "metadata": {},
   "outputs": [
    {
     "name": "stdout",
     "output_type": "stream",
     "text": [
      "2\n",
      "4\n",
      "8\n",
      "16\n"
     ]
    }
   ],
   "source": [
    "myList=[2,4,8,16]\n",
    "\n",
    "for i in myList:\n",
    "    print(i)"
   ]
  },
  {
   "cell_type": "code",
   "execution_count": 26,
   "metadata": {},
   "outputs": [
    {
     "name": "stdout",
     "output_type": "stream",
     "text": [
      "0\n",
      "1\n",
      "2\n"
     ]
    }
   ],
   "source": [
    "for i in range(3):\n",
    "    print(i)"
   ]
  },
  {
   "cell_type": "code",
   "execution_count": 27,
   "metadata": {},
   "outputs": [
    {
     "name": "stdout",
     "output_type": "stream",
     "text": [
      "2\n",
      "4\n",
      "8\n",
      "16\n"
     ]
    }
   ],
   "source": [
    "myList=[2,4,8,16]\n",
    "list_length=len(myList)\n",
    "for i in range(list_length):\n",
    "    print(myList[i])"
   ]
  },
  {
   "cell_type": "code",
   "execution_count": 28,
   "metadata": {},
   "outputs": [
    {
     "name": "stdout",
     "output_type": "stream",
     "text": [
      "0\n",
      "1\n",
      "2\n"
     ]
    }
   ],
   "source": [
    "for i in range(5):    \n",
    "    if i==3:\n",
    "        break\n",
    "    print(i)"
   ]
  },
  {
   "cell_type": "code",
   "execution_count": 29,
   "metadata": {},
   "outputs": [
    {
     "name": "stdout",
     "output_type": "stream",
     "text": [
      "0\n",
      "1\n",
      "2\n",
      "4\n"
     ]
    }
   ],
   "source": [
    "for i in range(5):    \n",
    "    if i==3:\n",
    "        continue\n",
    "    print(i)"
   ]
  },
  {
   "cell_type": "code",
   "execution_count": 30,
   "metadata": {},
   "outputs": [
    {
     "name": "stdout",
     "output_type": "stream",
     "text": [
      "4.0\n"
     ]
    }
   ],
   "source": [
    "def area(B, b, h):\n",
    "    return (B+b)*h/2\n",
    "\n",
    "myArea=area(3,1,2)\n",
    "print(myArea)"
   ]
  },
  {
   "cell_type": "code",
   "execution_count": 31,
   "metadata": {},
   "outputs": [
    {
     "name": "stdout",
     "output_type": "stream",
     "text": [
      "5\n",
      "16\n"
     ]
    }
   ],
   "source": [
    "myVariable = 5\n",
    "def myFunc(a):\n",
    "    myVariable = 1\n",
    "    return a**2\n",
    "res=myFunc(4)\n",
    "print(myVariable)\n",
    "print(res)"
   ]
  },
  {
   "cell_type": "code",
   "execution_count": 32,
   "metadata": {},
   "outputs": [
    {
     "name": "stdout",
     "output_type": "stream",
     "text": [
      "50.24\n",
      "(50.24, 25.12)\n"
     ]
    }
   ],
   "source": [
    "def myFunc(radius, perimeter=False):\n",
    "    if perimeter==False:\n",
    "        return 3.14*radius**2\n",
    "    else:\n",
    "        return (3.14*radius**2, 2*3.14*radius)\n",
    "\n",
    "print(myFunc(4))\n",
    "print(myFunc(4, perimeter=True))"
   ]
  },
  {
   "cell_type": "code",
   "execution_count": 33,
   "metadata": {},
   "outputs": [
    {
     "name": "stdout",
     "output_type": "stream",
     "text": [
      "50.24\n",
      "25.12\n"
     ]
    }
   ],
   "source": [
    "area, perimeter=myFunc(4, perimeter=True)\n",
    "print(area)\n",
    "print(perimeter)"
   ]
  },
  {
   "cell_type": "code",
   "execution_count": null,
   "metadata": {},
   "outputs": [],
   "source": []
  }
 ],
 "metadata": {
  "kernelspec": {
   "display_name": "Python 3",
   "language": "python",
   "name": "python3"
  },
  "language_info": {
   "codemirror_mode": {
    "name": "ipython",
    "version": 3
   },
   "file_extension": ".py",
   "mimetype": "text/x-python",
   "name": "python",
   "nbconvert_exporter": "python",
   "pygments_lexer": "ipython3",
   "version": "3.7.3"
  },
  "latex_envs": {
   "LaTeX_envs_menu_present": true,
   "autoclose": true,
   "autocomplete": false,
   "bibliofile": "biblio.bib",
   "cite_by": "apalike",
   "current_citInitial": 1,
   "eqLabelWithNumbers": true,
   "eqNumInitial": 1,
   "hotkeys": {
    "equation": "Ctrl-E",
    "itemize": "Ctrl-I"
   },
   "labels_anchors": false,
   "latex_user_defs": false,
   "report_style_numbering": false,
   "user_envs_cfg": false
  },
  "varInspector": {
   "cols": {
    "lenName": 16,
    "lenType": 16,
    "lenVar": 40
   },
   "kernels_config": {
    "python": {
     "delete_cmd_postfix": "",
     "delete_cmd_prefix": "del ",
     "library": "var_list.py",
     "varRefreshCmd": "print(var_dic_list())"
    },
    "r": {
     "delete_cmd_postfix": ") ",
     "delete_cmd_prefix": "rm(",
     "library": "var_list.r",
     "varRefreshCmd": "cat(var_dic_list()) "
    }
   },
   "types_to_exclude": [
    "module",
    "function",
    "builtin_function_or_method",
    "instance",
    "_Feature"
   ],
   "window_display": false
  }
 },
 "nbformat": 4,
 "nbformat_minor": 2
}
