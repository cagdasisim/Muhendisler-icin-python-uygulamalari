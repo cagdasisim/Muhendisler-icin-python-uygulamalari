{
 "cells": [
  {
   "cell_type": "code",
   "execution_count": 1,
   "metadata": {},
   "outputs": [],
   "source": [
    "from scipy . optimize import fsolve\n",
    "from numpy import sqrt , log10"
   ]
  },
  {
   "cell_type": "code",
   "execution_count": 3,
   "metadata": {},
   "outputs": [],
   "source": [
    "deltap = 1000\n",
    "D = 0.10\n",
    "L = 2;\n",
    "mu = 1004e-6\n",
    "rho = 998\n",
    "A =0.00785"
   ]
  },
  {
   "cell_type": "code",
   "execution_count": 14,
   "metadata": {},
   "outputs": [],
   "source": [
    "def ecuations(p):\n",
    "    \n",
    "  Mdot,fd,Reynolds = p\n",
    "\n",
    "  err1 = deltap - (1/2) *fd *(L/D)*rho *( Mdot /(A*rho))**2\n",
    "  err2 = 1/ sqrt (fd /4) - 4* log10 ( Reynolds * sqrt (fd /4)/1.255)\n",
    "  err3 = Reynolds - Mdot *D/(A*mu)\n",
    "  return err1 , err2 , err3\n",
    "x,y,z = fsolve ( ecuations ,(10 ,0.01 ,100000) )\n"
   ]
  },
  {
   "cell_type": "code",
   "execution_count": 19,
   "metadata": {},
   "outputs": [
    {
     "name": "stdout",
     "output_type": "stream",
     "text": [
      "Solution is:\n",
      "Mdot = 20.32607874975973\n",
      "fd = 0.014885473266255661\n",
      "Re = 257899.34211890952\n"
     ]
    }
   ],
   "source": [
    "print ('Solution is:')\n",
    "print ('Mdot =', x)\n",
    "print ('fd =' ,y)\n",
    "print ('Re =',z)"
   ]
  },
  {
   "cell_type": "code",
   "execution_count": null,
   "metadata": {},
   "outputs": [],
   "source": []
  },
  {
   "cell_type": "code",
   "execution_count": null,
   "metadata": {},
   "outputs": [],
   "source": []
  }
 ],
 "metadata": {
  "kernelspec": {
   "display_name": "Python 3",
   "language": "python",
   "name": "python3"
  },
  "language_info": {
   "codemirror_mode": {
    "name": "ipython",
    "version": 3
   },
   "file_extension": ".py",
   "mimetype": "text/x-python",
   "name": "python",
   "nbconvert_exporter": "python",
   "pygments_lexer": "ipython3",
   "version": "3.7.3"
  }
 },
 "nbformat": 4,
 "nbformat_minor": 2
}
